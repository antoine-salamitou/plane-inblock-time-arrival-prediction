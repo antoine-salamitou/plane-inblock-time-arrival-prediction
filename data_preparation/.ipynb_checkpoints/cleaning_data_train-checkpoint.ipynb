{
 "cells": [
  {
   "cell_type": "markdown",
   "metadata": {},
   "source": [
    "# Data preparation"
   ]
  },
  {
   "cell_type": "code",
   "execution_count": 58,
   "metadata": {
    "collapsed": true
   },
   "outputs": [],
   "source": [
    "import pandas as pd\n",
    "import numpy as np"
   ]
  },
  {
   "cell_type": "markdown",
   "metadata": {},
   "source": [
    "## Weather dataset"
   ]
  },
  {
   "cell_type": "code",
   "execution_count": 59,
   "metadata": {
    "collapsed": true
   },
   "outputs": [],
   "source": [
    "weather_data_prep = pd.read_csv(\"../data/weather_data_prep.csv\")"
   ]
  },
  {
   "cell_type": "markdown",
   "metadata": {},
   "source": [
    "#### Convert DATE column into Date format"
   ]
  },
  {
   "cell_type": "code",
   "execution_count": 60,
   "metadata": {
    "collapsed": true
   },
   "outputs": [],
   "source": [
    "weather_data_prep['DATE']= pd.to_datetime(weather_data_prep['DATE']) "
   ]
  },
  {
   "cell_type": "markdown",
   "metadata": {},
   "source": [
    "#### Drop useless columns"
   ]
  },
  {
   "cell_type": "markdown",
   "metadata": {},
   "source": [
    "We think SNOW, SNWD (Snow Depth) and PGTM (Peak gust time) are useless because too many missing values"
   ]
  },
  {
   "cell_type": "code",
   "execution_count": 61,
   "metadata": {
    "collapsed": true
   },
   "outputs": [],
   "source": [
    "weather_data_prep = weather_data_prep.drop(['SNWD', 'PGTM', 'SNOW'], axis=1)"
   ]
  },
  {
   "cell_type": "markdown",
   "metadata": {},
   "source": [
    "#### Aggregate by date"
   ]
  },
  {
   "cell_type": "code",
   "execution_count": 62,
   "metadata": {
    "collapsed": true
   },
   "outputs": [],
   "source": [
    "weather_data_prep = weather_data_prep.groupby(['DATE']).agg({\n",
    "    'AWND': 'mean',\n",
    "    'PRCP':'mean',\n",
    "    'TAVG': 'mean',\n",
    "    'WDF5': 'mean',\n",
    "    'TMAX':'max',\n",
    "    'WSF2': 'max',\n",
    "    'WSF5': 'max', #here we should make sure the wind direction is in radian before computing the mean\n",
    "    'WT01': 'max',\n",
    "    'WT02': 'max',\n",
    "    'WT03': 'max',\n",
    "    'WT08': 'max',\n",
    "    'TMIN': 'min'\n",
    "})\n",
    "\n",
    "\n",
    "weather_data_prep = weather_data_prep.rename(columns={\n",
    "    \"AWND\": \"AWND_mean\", \n",
    "    \"PRCP\": \"PRCP_mean\", \n",
    "    \"TAVG\": \"TAVG_mean\", \n",
    "    \"WDF5\": \"WDF5_mean\", \n",
    "    \"TMAX\": \"TMAX_max\",\n",
    "    'WSF2': 'WSF2_max',\n",
    "    'WSF5': 'WSF5_max',\n",
    "    'WT01': 'WT01_max',\n",
    "    'WT02': 'WT02_max',\n",
    "    'WT03': 'WT03_max',\n",
    "    'WT08': 'WT08_max',\n",
    "    'TMIN': 'TMIN_min'\n",
    "})"
   ]
  },
  {
   "cell_type": "markdown",
   "metadata": {},
   "source": [
    "#### Create new features"
   ]
  },
  {
   "cell_type": "markdown",
   "metadata": {},
   "source": [
    "We add two informations that might affect the prediction: if there is ice on the road, if the road is wet."
   ]
  },
  {
   "cell_type": "code",
   "execution_count": 63,
   "metadata": {
    "collapsed": true
   },
   "outputs": [],
   "source": [
    "weather_data_prep['IceRoad'] = np.where(weather_data_prep['TMIN_min'] < 37.4, 1, 0) #Conversion: 37.4F = 3°C\n",
    "weather_data_prep['WetDay'] = np.where(weather_data_prep['PRCP_mean'] > 0, 1, 0)\n",
    "weather_data_prep = weather_data_prep.reset_index()"
   ]
  },
  {
   "cell_type": "markdown",
   "metadata": {},
   "source": [
    "## Airport dataset"
   ]
  },
  {
   "cell_type": "code",
   "execution_count": 64,
   "metadata": {},
   "outputs": [
    {
     "name": "stderr",
     "output_type": "stream",
     "text": [
      "C:\\Users\\Cyprien\\Anaconda3\\lib\\site-packages\\IPython\\core\\interactiveshell.py:2698: DtypeWarning: Columns (0,1,2,3,4,5,6,7,8,9,10,11,12,13,14,15,16,17,18,19,20,21,22,23,24,25,26,27,28,29,30,31,32,33,34,35,36,37,38,39,40,41,42) have mixed types. Specify dtype option on import or set low_memory=False.\n",
      "  interactivity=interactivity, compiler=compiler, result=result)\n"
     ]
    }
   ],
   "source": [
    "Airport_Data = pd.read_csv(\"../data/Airport_Data.csv\")"
   ]
  },
  {
   "cell_type": "markdown",
   "metadata": {},
   "source": [
    "#### Drop useless columns\n"
   ]
  },
  {
   "cell_type": "markdown",
   "metadata": {},
   "source": [
    "We followed the instructions given in the glossary"
   ]
  },
  {
   "cell_type": "code",
   "execution_count": 65,
   "metadata": {
    "collapsed": true
   },
   "outputs": [],
   "source": [
    "Airport_Data = Airport_Data.drop([\n",
    "    'stand_last_change', \n",
    "    'sto',\n",
    "    'atot',\n",
    "    'aobt',\n",
    "    'chocks_on',\n",
    "    'stand_scheduled',\n",
    "    'last_distance_to_gate',\n",
    "    'last_in_sector',\n",
    "    'status',\n",
    "    'mode_s',\n",
    "    'acReg',\n",
    "    'partition',\n",
    "    'vdgs_in',\n",
    "    'stand_active',\n",
    "    'stand_docking',\n",
    "    'aibt_received',\n",
    "    'sqt',\n",
    "    'plb_on',\n",
    "    'pca_on',\n",
    "    'gpu_on',\n",
    "    'towbar_on',\n",
    "    'plb_off',\n",
    "    'pca_off',\n",
    "    'gpu_off',\n",
    "    'acars_out',\n",
    "    'vdgs_out',\n",
    "    'stand_free',\n",
    "    'eobt',\n",
    "    'aldt_received',\n",
    "    'stand_prepared',\n",
    "    'stand_auto_start',\n",
    "    'roll',\n",
    "    'speed'\n",
    "], axis=1)"
   ]
  },
  {
   "cell_type": "markdown",
   "metadata": {},
   "source": [
    "#### Add Date column\n"
   ]
  },
  {
   "cell_type": "code",
   "execution_count": 66,
   "metadata": {
    "collapsed": true
   },
   "outputs": [],
   "source": [
    "Airport_Data['DATE'] = pd.to_datetime(Airport_Data['aldt'], errors='coerce').dt.normalize()"
   ]
  },
  {
   "cell_type": "markdown",
   "metadata": {},
   "source": [
    "## Merge the two datasets"
   ]
  },
  {
   "cell_type": "code",
   "execution_count": 67,
   "metadata": {
    "collapsed": true
   },
   "outputs": [],
   "source": [
    "Airport_and_weather = pd.merge(Airport_Data, weather_data_prep, how='left', on=['DATE'])"
   ]
  },
  {
   "cell_type": "code",
   "execution_count": 68,
   "metadata": {
    "collapsed": true
   },
   "outputs": [],
   "source": [
    "Airport_and_weather = Airport_and_weather.rename(columns={\n",
    "    \"carrier\": \"Airline\", \n",
    "    \"flight\": \"FlightNumber\", \n",
    "    \"DATE\": \"Date\", \n",
    "    \"acType\": \"AircraftType\", \n",
    "    \"ship\": \"ShipmentWeight\",\n",
    "    'runway': 'Runway',\n",
    "    'stand': 'Stand',\n",
    "    'aldt': 'ActualLandingTime',\n",
    "    'eibt': 'EstimatedInBlockTime',\n",
    "    'cibt': 'CalculatedInBlockTime',\n",
    "    'aibt': 'ActualInBlockTime'\n",
    "})"
   ]
  },
  {
   "cell_type": "markdown",
   "metadata": {},
   "source": [
    "## Calculate the Taxi time "
   ]
  },
  {
   "cell_type": "code",
   "execution_count": 69,
   "metadata": {
    "collapsed": true
   },
   "outputs": [],
   "source": [
    "Airport_and_weather['TaxiTime'] = pd.to_datetime(Airport_and_weather['ActualInBlockTime'], errors='coerce') - pd.to_datetime(Airport_and_weather['ActualLandingTime'], errors='coerce')\n",
    "\n",
    "\n",
    "Airport_and_weather['TaxiTime'] = Airport_and_weather['TaxiTime'].dt.total_seconds() / 60"
   ]
  },
  {
   "cell_type": "markdown",
   "metadata": {},
   "source": [
    "We drop duplicates and the rows containing NAN values for Taxi time, and the rows containing absurd taxi times values\n"
   ]
  },
  {
   "cell_type": "code",
   "execution_count": 70,
   "metadata": {
    "collapsed": true
   },
   "outputs": [],
   "source": [
    "Airport_and_weather = Airport_and_weather.drop_duplicates()\n",
    "Airport_and_weather = Airport_and_weather[np.isfinite(Airport_and_weather['TaxiTime'])]\n",
    "Airport_and_weather = Airport_and_weather[(Airport_and_weather['TaxiTime'] >= 0) & (Airport_and_weather['TaxiTime'] < 120)]"
   ]
  },
  {
   "cell_type": "markdown",
   "metadata": {},
   "source": [
    "## Create new features"
   ]
  },
  {
   "cell_type": "markdown",
   "metadata": {},
   "source": [
    "We separate into groups the planes according to their shipment weight, which might affect the taxi time."
   ]
  },
  {
   "cell_type": "code",
   "execution_count": 71,
   "metadata": {
    "collapsed": true
   },
   "outputs": [],
   "source": [
    "conditions = [\n",
    "    (pd.to_numeric(Airport_and_weather['ShipmentWeight'], errors='coerce') < 2000),\n",
    "    (pd.to_numeric(Airport_and_weather['ShipmentWeight'], errors='coerce') >= 2000) & (pd.to_numeric(Airport_and_weather['ShipmentWeight'], errors='coerce') < 6000),\n",
    "    (pd.to_numeric(Airport_and_weather['ShipmentWeight'], errors='coerce') >= 6000)]\n",
    "\n",
    "choices = ['S', 'M', 'L']\n",
    "\n",
    "Airport_and_weather['ShipmentWeightCat'] = np.select(conditions, choices)"
   ]
  },
  {
   "cell_type": "markdown",
   "metadata": {},
   "source": [
    "We also add the number of planes which arrive 10mn before the one in the row. If there is a lot of planes that are landing at the same time, it will affect the taxi time."
   ]
  },
  {
   "cell_type": "code",
   "execution_count": 72,
   "metadata": {
    "collapsed": true
   },
   "outputs": [],
   "source": [
    "Airport_and_weather['ActualLandingTime'] = pd.to_datetime(Airport_and_weather['ActualLandingTime'], errors='coerce')\n",
    "Airport_and_weather = Airport_and_weather.sort_values(by='ActualLandingTime').set_index('ActualLandingTime')\n",
    "Airport_and_weather['NbPlanesLast10Mn'] = Airport_and_weather['TaxiTime'].rolling(\"10T\").count()\n",
    "Airport_and_weather = Airport_and_weather.reset_index()\n",
    "\n",
    "Airport_and_weather['NbPlanesLast10Mn'] = Airport_and_weather['NbPlanesLast10Mn'] - 1"
   ]
  },
  {
   "cell_type": "markdown",
   "metadata": {},
   "source": [
    "We add a column with the day of the week (from 0 on Monday to 6 on Sunday) and the month of the year. "
   ]
  },
  {
   "cell_type": "code",
   "execution_count": 73,
   "metadata": {
    "collapsed": true
   },
   "outputs": [],
   "source": [
    "Airport_and_weather['Hour'] = Airport_and_weather['ActualLandingTime'].dt.hour\n",
    "Airport_and_weather['DayOfTheWeek'] = Airport_and_weather['ActualLandingTime'].dt.dayofweek"
   ]
  },
  {
   "cell_type": "markdown",
   "metadata": {},
   "source": [
    "We transform Runway & Stand into a numeric values for the model as well as the stand."
   ]
  },
  {
   "cell_type": "code",
   "execution_count": 74,
   "metadata": {
    "collapsed": true
   },
   "outputs": [],
   "source": [
    "Airport_and_weather['Runway'] = pd.to_numeric(Airport_and_weather['Runway'].str[7:9], errors='coerce')\n",
    "Airport_and_weather = Airport_and_weather.rename(columns={\n",
    "    \"Runway\": \"RunwayNumber\"\n",
    "})\n",
    "\n",
    "Airport_and_weather['Stand'] =  pd.to_numeric(Airport_and_weather['Stand'].str[5:], errors='coerce')\n",
    "Airport_and_weather = Airport_and_weather.rename(columns={\n",
    "    \"Stand\": \"StandNumber\"\n",
    "})"
   ]
  },
  {
   "cell_type": "markdown",
   "metadata": {},
   "source": [
    "We drop the columns that are no longer needed.\n",
    "We drop TMAX_max and TMIN_min because highly correlated with TAVG_mean"
   ]
  },
  {
   "cell_type": "code",
   "execution_count": 75,
   "metadata": {
    "collapsed": true
   },
   "outputs": [],
   "source": [
    "Airport_and_weather = Airport_and_weather.drop([\n",
    "    'FlightNumber', \n",
    "    'EstimatedInBlockTime',\n",
    "    'CalculatedInBlockTime',\n",
    "    'ActualInBlockTime',\n",
    "    'TMAX_max',\n",
    "    'TMIN_min',\n",
    "    'ShipmentWeight'\n",
    "], axis=1)"
   ]
  },
  {
   "cell_type": "markdown",
   "metadata": {},
   "source": [
    "We calculate the log of the taxi time in order to have a normal distribution."
   ]
  },
  {
   "cell_type": "code",
   "execution_count": 76,
   "metadata": {
    "collapsed": true
   },
   "outputs": [],
   "source": [
    "Airport_and_weather['LogTaxiTime'] = np.log(Airport_and_weather['TaxiTime'] + 1) "
   ]
  },
  {
   "cell_type": "markdown",
   "metadata": {},
   "source": [
    "## Aircraft dataset"
   ]
  },
  {
   "cell_type": "markdown",
   "metadata": {},
   "source": [
    "Since the name of the aircrafts on the two files provided (ACchar.xlsx & Airport_Data.csv) are not the same, we created a file giving the correspondence between those two files."
   ]
  },
  {
   "cell_type": "code",
   "execution_count": 77,
   "metadata": {
    "collapsed": true
   },
   "outputs": [],
   "source": [
    "Aircrafts_info = pd.read_csv(\"../data/aircraft_simplified_data.csv\", sep=\";\",header=0,encoding = 'unicode_escape')\n",
    "Aircrafts_info = Aircrafts_info.rename(columns={\n",
    "    \"Model_Airport_Data\": \"AircraftType\"\n",
    "})"
   ]
  },
  {
   "cell_type": "markdown",
   "metadata": {},
   "source": [
    "## Merge datasets"
   ]
  },
  {
   "cell_type": "code",
   "execution_count": 78,
   "metadata": {
    "collapsed": true
   },
   "outputs": [],
   "source": [
    "FinalDataset = pd.merge(Airport_and_weather, Aircrafts_info, how='left', on=['AircraftType'])"
   ]
  },
  {
   "cell_type": "markdown",
   "metadata": {},
   "source": [
    "We filter dates that had obviously a problem and which are not relevant for the predictions (the average of the taxi time these days are more than 20 minutes, which is way higher than the other dates)."
   ]
  },
  {
   "cell_type": "code",
   "execution_count": 79,
   "metadata": {
    "collapsed": true
   },
   "outputs": [],
   "source": [
    "FinalDataset = FinalDataset[FinalDataset['Date'] != \"2018-09-26\"]\n",
    "FinalDataset = FinalDataset[FinalDataset['Date'] != \"2018-08-01\"]"
   ]
  },
  {
   "cell_type": "markdown",
   "metadata": {},
   "source": [
    "# Final data preparation "
   ]
  },
  {
   "cell_type": "markdown",
   "metadata": {},
   "source": [
    "We rename the columns, drop the columns that are correlated with parking area (wingspan and length)."
   ]
  },
  {
   "cell_type": "code",
   "execution_count": 80,
   "metadata": {
    "collapsed": true
   },
   "outputs": [],
   "source": [
    "# Columns renaming: \n",
    "FinalDataset.rename(columns={'Parking Area':'ParkingArea',\n",
    "                             'WT01_max':'WT01max',\n",
    "                             'WT02_max':'WT02max', \n",
    "                             'WT03_max':'WT03max', \n",
    "                             'WT08_max':'WT08max', \n",
    "                             'WSF2_max':'WSF2max', \n",
    "                             'WSF5_max':'WSF5max',\n",
    "                             'Model_Acchar':'ModelAcchar',  \n",
    "                             'TAVG_mean':'TAVGmean',\n",
    "                             'AWND_mean':'AWNDmean', \n",
    "                             'TAVG_mean':'TAVGmean', \n",
    "                             'DayOfTheWeek':'WeekDay',\n",
    "                             'WDF5_mean':'WDF5mean', \n",
    "                             'PRCP_mean':'PRCPmean'}, inplace=True)\n",
    "\n",
    "# Dropping correlated variables:  \n",
    "FinalDataset=FinalDataset.drop(labels=[\"Wingspan\",\"Length\"], axis=1)\n",
    "\n",
    "# Converting dates to_datetime: \n",
    "FinalDataset.ActualLandingTime=pd.to_datetime(FinalDataset.ActualLandingTime.values)\n",
    "FinalDataset.Date=pd.to_datetime(FinalDataset.Date.values)"
   ]
  },
  {
   "cell_type": "markdown",
   "metadata": {},
   "source": [
    "We drop nan values except for the weather where a null just means that it is equal to 0 (example for the rain)."
   ]
  },
  {
   "cell_type": "code",
   "execution_count": 81,
   "metadata": {
    "collapsed": true
   },
   "outputs": [],
   "source": [
    "# Dropping (real) NA values ~4%: \n",
    "FinalDataset=FinalDataset.dropna(subset=[\"RunwayNumber\", \"StandNumber\", \"AircraftType\",\"ParkingArea\"])\n",
    "\n",
    "# Filling other missing values with 0 : \n",
    "FinalDataset=FinalDataset.fillna(0)"
   ]
  },
  {
   "cell_type": "markdown",
   "metadata": {},
   "source": [
    "## Stand Clustering"
   ]
  },
  {
   "cell_type": "code",
   "execution_count": 82,
   "metadata": {
    "collapsed": true
   },
   "outputs": [],
   "source": [
    "StandAnalysis = FinalDataset.loc[:,[\"StandNumber\",\"TaxiTime\"]]"
   ]
  },
  {
   "cell_type": "code",
   "execution_count": 83,
   "metadata": {
    "collapsed": true
   },
   "outputs": [],
   "source": [
    "SortedStand = StandAnalysis.groupby(\"StandNumber\").mean().reset_index().sort_values(\"TaxiTime\")"
   ]
  },
  {
   "cell_type": "code",
   "execution_count": 84,
   "metadata": {
    "collapsed": true
   },
   "outputs": [],
   "source": [
    "FirstGroup = SortedStand.iloc[0:40,:].loc[:,\"StandNumber\"].tolist()\n",
    "SecondGroup = SortedStand.iloc[40:80,:].loc[:,\"StandNumber\"].tolist()\n",
    "ThirdGroup = SortedStand.iloc[80:120,:].loc[:,\"StandNumber\"].tolist()\n",
    "ForthGroup = SortedStand.iloc[120:,:].loc[:,\"StandNumber\"].tolist()"
   ]
  },
  {
   "cell_type": "code",
   "execution_count": 85,
   "metadata": {
    "collapsed": true
   },
   "outputs": [],
   "source": [
    "Stands = FinalDataset[\"StandNumber\"].tolist()"
   ]
  },
  {
   "cell_type": "code",
   "execution_count": 86,
   "metadata": {
    "collapsed": true
   },
   "outputs": [],
   "source": [
    "StandRank = []\n",
    "for i in range(len(Stands)):\n",
    "    if Stands[i] in FirstGroup :\n",
    "        StandRank.append(0)\n",
    "    elif Stands[i] in SecondGroup :\n",
    "        StandRank.append(1)\n",
    "    elif Stands[i] in ThirdGroup :\n",
    "        StandRank.append(2)\n",
    "    else :\n",
    "        StandRank.append(3)"
   ]
  },
  {
   "cell_type": "code",
   "execution_count": 87,
   "metadata": {
    "collapsed": true
   },
   "outputs": [],
   "source": [
    "FinalDataset[\"StandRank\"] = StandRank"
   ]
  },
  {
   "cell_type": "code",
   "execution_count": 88,
   "metadata": {},
   "outputs": [
    {
     "data": {
      "text/html": [
       "<div>\n",
       "<style>\n",
       "    .dataframe thead tr:only-child th {\n",
       "        text-align: right;\n",
       "    }\n",
       "\n",
       "    .dataframe thead th {\n",
       "        text-align: left;\n",
       "    }\n",
       "\n",
       "    .dataframe tbody tr th {\n",
       "        vertical-align: top;\n",
       "    }\n",
       "</style>\n",
       "<table border=\"1\" class=\"dataframe\">\n",
       "  <thead>\n",
       "    <tr style=\"text-align: right;\">\n",
       "      <th></th>\n",
       "      <th>ActualLandingTime</th>\n",
       "      <th>Airline</th>\n",
       "      <th>AircraftType</th>\n",
       "      <th>RunwayNumber</th>\n",
       "      <th>StandNumber</th>\n",
       "      <th>Date</th>\n",
       "      <th>AWNDmean</th>\n",
       "      <th>PRCPmean</th>\n",
       "      <th>TAVGmean</th>\n",
       "      <th>WDF5mean</th>\n",
       "      <th>...</th>\n",
       "      <th>WetDay</th>\n",
       "      <th>TaxiTime</th>\n",
       "      <th>ShipmentWeightCat</th>\n",
       "      <th>NbPlanesLast10Mn</th>\n",
       "      <th>Hour</th>\n",
       "      <th>WeekDay</th>\n",
       "      <th>LogTaxiTime</th>\n",
       "      <th>ModelAcchar</th>\n",
       "      <th>ParkingArea</th>\n",
       "      <th>StandRank</th>\n",
       "    </tr>\n",
       "  </thead>\n",
       "  <tbody>\n",
       "    <tr>\n",
       "      <th>0</th>\n",
       "      <td>2018-07-30 04:25:00</td>\n",
       "      <td>CAR1</td>\n",
       "      <td>B737/9-WL</td>\n",
       "      <td>2.0</td>\n",
       "      <td>4</td>\n",
       "      <td>2018-07-30</td>\n",
       "      <td>4.173333</td>\n",
       "      <td>0.006667</td>\n",
       "      <td>79.0</td>\n",
       "      <td>153.333333</td>\n",
       "      <td>...</td>\n",
       "      <td>1.0</td>\n",
       "      <td>4.0</td>\n",
       "      <td>M</td>\n",
       "      <td>0.0</td>\n",
       "      <td>4</td>\n",
       "      <td>0</td>\n",
       "      <td>1.609438</td>\n",
       "      <td>737-900 with winglets</td>\n",
       "      <td>16223.1</td>\n",
       "      <td>1</td>\n",
       "    </tr>\n",
       "    <tr>\n",
       "      <th>1</th>\n",
       "      <td>2018-07-30 08:14:00</td>\n",
       "      <td>CAR1</td>\n",
       "      <td>B757/2-WL</td>\n",
       "      <td>2.0</td>\n",
       "      <td>7</td>\n",
       "      <td>2018-07-30</td>\n",
       "      <td>4.173333</td>\n",
       "      <td>0.006667</td>\n",
       "      <td>79.0</td>\n",
       "      <td>153.333333</td>\n",
       "      <td>...</td>\n",
       "      <td>1.0</td>\n",
       "      <td>4.0</td>\n",
       "      <td>M</td>\n",
       "      <td>0.0</td>\n",
       "      <td>8</td>\n",
       "      <td>0</td>\n",
       "      <td>1.609438</td>\n",
       "      <td>757-200, -200PF with winglets</td>\n",
       "      <td>20919.9</td>\n",
       "      <td>1</td>\n",
       "    </tr>\n",
       "    <tr>\n",
       "      <th>2</th>\n",
       "      <td>2018-07-30 08:26:00</td>\n",
       "      <td>CAR1</td>\n",
       "      <td>A321/2</td>\n",
       "      <td>1.0</td>\n",
       "      <td>8</td>\n",
       "      <td>2018-07-30</td>\n",
       "      <td>4.173333</td>\n",
       "      <td>0.006667</td>\n",
       "      <td>79.0</td>\n",
       "      <td>153.333333</td>\n",
       "      <td>...</td>\n",
       "      <td>1.0</td>\n",
       "      <td>3.0</td>\n",
       "      <td>M</td>\n",
       "      <td>0.0</td>\n",
       "      <td>8</td>\n",
       "      <td>0</td>\n",
       "      <td>1.386294</td>\n",
       "      <td>A321-200</td>\n",
       "      <td>16337.8</td>\n",
       "      <td>1</td>\n",
       "    </tr>\n",
       "    <tr>\n",
       "      <th>3</th>\n",
       "      <td>2018-07-30 08:42:00</td>\n",
       "      <td>CAR1</td>\n",
       "      <td>B737/9-WL</td>\n",
       "      <td>2.0</td>\n",
       "      <td>9</td>\n",
       "      <td>2018-07-30</td>\n",
       "      <td>4.173333</td>\n",
       "      <td>0.006667</td>\n",
       "      <td>79.0</td>\n",
       "      <td>153.333333</td>\n",
       "      <td>...</td>\n",
       "      <td>1.0</td>\n",
       "      <td>4.0</td>\n",
       "      <td>M</td>\n",
       "      <td>0.0</td>\n",
       "      <td>8</td>\n",
       "      <td>0</td>\n",
       "      <td>1.609438</td>\n",
       "      <td>737-900 with winglets</td>\n",
       "      <td>16223.1</td>\n",
       "      <td>1</td>\n",
       "    </tr>\n",
       "    <tr>\n",
       "      <th>4</th>\n",
       "      <td>2018-07-30 08:52:00</td>\n",
       "      <td>CAR1</td>\n",
       "      <td>A321/2</td>\n",
       "      <td>2.0</td>\n",
       "      <td>11</td>\n",
       "      <td>2018-07-30</td>\n",
       "      <td>4.173333</td>\n",
       "      <td>0.006667</td>\n",
       "      <td>79.0</td>\n",
       "      <td>153.333333</td>\n",
       "      <td>...</td>\n",
       "      <td>1.0</td>\n",
       "      <td>5.0</td>\n",
       "      <td>M</td>\n",
       "      <td>0.0</td>\n",
       "      <td>8</td>\n",
       "      <td>0</td>\n",
       "      <td>1.791759</td>\n",
       "      <td>A321-200</td>\n",
       "      <td>16337.8</td>\n",
       "      <td>1</td>\n",
       "    </tr>\n",
       "  </tbody>\n",
       "</table>\n",
       "<p>5 rows × 27 columns</p>\n",
       "</div>"
      ],
      "text/plain": [
       "    ActualLandingTime Airline AircraftType  RunwayNumber  StandNumber  \\\n",
       "0 2018-07-30 04:25:00    CAR1    B737/9-WL           2.0            4   \n",
       "1 2018-07-30 08:14:00    CAR1    B757/2-WL           2.0            7   \n",
       "2 2018-07-30 08:26:00    CAR1       A321/2           1.0            8   \n",
       "3 2018-07-30 08:42:00    CAR1    B737/9-WL           2.0            9   \n",
       "4 2018-07-30 08:52:00    CAR1       A321/2           2.0           11   \n",
       "\n",
       "        Date  AWNDmean  PRCPmean  TAVGmean    WDF5mean    ...     WetDay  \\\n",
       "0 2018-07-30  4.173333  0.006667      79.0  153.333333    ...        1.0   \n",
       "1 2018-07-30  4.173333  0.006667      79.0  153.333333    ...        1.0   \n",
       "2 2018-07-30  4.173333  0.006667      79.0  153.333333    ...        1.0   \n",
       "3 2018-07-30  4.173333  0.006667      79.0  153.333333    ...        1.0   \n",
       "4 2018-07-30  4.173333  0.006667      79.0  153.333333    ...        1.0   \n",
       "\n",
       "   TaxiTime  ShipmentWeightCat  NbPlanesLast10Mn  Hour  WeekDay  LogTaxiTime  \\\n",
       "0       4.0                  M               0.0     4        0     1.609438   \n",
       "1       4.0                  M               0.0     8        0     1.609438   \n",
       "2       3.0                  M               0.0     8        0     1.386294   \n",
       "3       4.0                  M               0.0     8        0     1.609438   \n",
       "4       5.0                  M               0.0     8        0     1.791759   \n",
       "\n",
       "                     ModelAcchar  ParkingArea StandRank  \n",
       "0          737-900 with winglets      16223.1         1  \n",
       "1  757-200, -200PF with winglets      20919.9         1  \n",
       "2                       A321-200      16337.8         1  \n",
       "3          737-900 with winglets      16223.1         1  \n",
       "4                       A321-200      16337.8         1  \n",
       "\n",
       "[5 rows x 27 columns]"
      ]
     },
     "execution_count": 88,
     "metadata": {},
     "output_type": "execute_result"
    }
   ],
   "source": [
    "FinalDataset.head()"
   ]
  },
  {
   "cell_type": "markdown",
   "metadata": {},
   "source": [
    "## Export dataset"
   ]
  },
  {
   "cell_type": "code",
   "execution_count": 89,
   "metadata": {
    "collapsed": true
   },
   "outputs": [],
   "source": [
    "# Putting TaxiTime and LogTaxiTime as last columns : \n",
    "taxitime=FinalDataset.TaxiTime\n",
    "logtaxitime=FinalDataset.LogTaxiTime \n",
    "\n",
    "FinalDataset.drop([\"TaxiTime\", \"LogTaxiTime\", \"ModelAcchar\"], axis=1, inplace=True)\n",
    "\n",
    "FinalDataset[\"TaxiTime\"]=taxitime\n",
    "FinalDataset[\"LogTaxiTime\"]=logtaxitime"
   ]
  },
  {
   "cell_type": "code",
   "execution_count": 90,
   "metadata": {},
   "outputs": [
    {
     "data": {
      "text/plain": [
       "ActualLandingTime    0\n",
       "Airline              0\n",
       "AircraftType         0\n",
       "RunwayNumber         0\n",
       "StandNumber          0\n",
       "Date                 0\n",
       "AWNDmean             0\n",
       "PRCPmean             0\n",
       "TAVGmean             0\n",
       "WDF5mean             0\n",
       "WSF2max              0\n",
       "WSF5max              0\n",
       "WT01max              0\n",
       "WT02max              0\n",
       "WT03max              0\n",
       "WT08max              0\n",
       "IceRoad              0\n",
       "WetDay               0\n",
       "ShipmentWeightCat    0\n",
       "NbPlanesLast10Mn     0\n",
       "Hour                 0\n",
       "WeekDay              0\n",
       "ParkingArea          0\n",
       "StandRank            0\n",
       "TaxiTime             0\n",
       "LogTaxiTime          0\n",
       "dtype: int64"
      ]
     },
     "execution_count": 90,
     "metadata": {},
     "output_type": "execute_result"
    }
   ],
   "source": [
    "FinalDataset[FinalDataset.isnull() == True].count()"
   ]
  },
  {
   "cell_type": "code",
   "execution_count": 91,
   "metadata": {
    "collapsed": true
   },
   "outputs": [],
   "source": [
    "export_csv = FinalDataset.to_csv('../data/DatasetCleanFinal.csv', index = None, header=True)"
   ]
  }
 ],
 "metadata": {
  "kernelspec": {
   "display_name": "Python 3",
   "language": "python",
   "name": "python3"
  },
  "language_info": {
   "codemirror_mode": {
    "name": "ipython",
    "version": 3
   },
   "file_extension": ".py",
   "mimetype": "text/x-python",
   "name": "python",
   "nbconvert_exporter": "python",
   "pygments_lexer": "ipython3",
   "version": "3.6.2"
  }
 },
 "nbformat": 4,
 "nbformat_minor": 2
}
