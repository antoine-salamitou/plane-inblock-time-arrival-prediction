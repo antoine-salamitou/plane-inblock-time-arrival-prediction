{
 "cells": [
  {
   "cell_type": "markdown",
   "metadata": {
    "collapsed": true
   },
   "source": [
    "# Random Forest Regressor Model"
   ]
  },
  {
   "cell_type": "code",
   "execution_count": 16,
   "metadata": {},
   "outputs": [],
   "source": [
    "import pandas as pd\n",
    "import numpy as np\n",
    "import pickle\n",
    "from sklearn.metrics import mean_squared_error"
   ]
  },
  {
   "cell_type": "markdown",
   "metadata": {},
   "source": [
    "## Loading the data"
   ]
  },
  {
   "cell_type": "code",
   "execution_count": 17,
   "metadata": {},
   "outputs": [],
   "source": [
    "#To remove\n",
    "df1 = pd.read_csv(\"TestsetCleanFinal.csv\", sep=\",\")"
   ]
  },
  {
   "cell_type": "code",
   "execution_count": null,
   "metadata": {},
   "outputs": [],
   "source": [
    "df1 = pd.read_csv(\"../../data/TestsetCleanFinal.csv\", sep=\",\")"
   ]
  },
  {
   "cell_type": "code",
   "execution_count": 18,
   "metadata": {},
   "outputs": [
    {
     "data": {
      "text/html": [
       "<div>\n",
       "<style scoped>\n",
       "    .dataframe tbody tr th:only-of-type {\n",
       "        vertical-align: middle;\n",
       "    }\n",
       "\n",
       "    .dataframe tbody tr th {\n",
       "        vertical-align: top;\n",
       "    }\n",
       "\n",
       "    .dataframe thead th {\n",
       "        text-align: right;\n",
       "    }\n",
       "</style>\n",
       "<table border=\"1\" class=\"dataframe\">\n",
       "  <thead>\n",
       "    <tr style=\"text-align: right;\">\n",
       "      <th></th>\n",
       "      <th>ActualLandingTime</th>\n",
       "      <th>Airline</th>\n",
       "      <th>AircraftType</th>\n",
       "      <th>RunwayNumber</th>\n",
       "      <th>StandNumber</th>\n",
       "      <th>Date</th>\n",
       "      <th>AWNDmean</th>\n",
       "      <th>PRCPmean</th>\n",
       "      <th>TAVGmean</th>\n",
       "      <th>WDF5mean</th>\n",
       "      <th>...</th>\n",
       "      <th>IceRoad</th>\n",
       "      <th>WetDay</th>\n",
       "      <th>ShipmentWeightCat</th>\n",
       "      <th>NbPlanesLast10Mn</th>\n",
       "      <th>Hour</th>\n",
       "      <th>WeekDay</th>\n",
       "      <th>ParkingArea</th>\n",
       "      <th>StandRank</th>\n",
       "      <th>TaxiTime</th>\n",
       "      <th>LogTaxiTime</th>\n",
       "    </tr>\n",
       "  </thead>\n",
       "  <tbody>\n",
       "    <tr>\n",
       "      <th>0</th>\n",
       "      <td>2019-01-17 03:18:00</td>\n",
       "      <td>CAR1</td>\n",
       "      <td>A321/2</td>\n",
       "      <td>9.0</td>\n",
       "      <td>128</td>\n",
       "      <td>2019-01-17 00:00:00</td>\n",
       "      <td>2.61</td>\n",
       "      <td>0.043</td>\n",
       "      <td>42.0</td>\n",
       "      <td>223.333333</td>\n",
       "      <td>...</td>\n",
       "      <td>1.0</td>\n",
       "      <td>1.0</td>\n",
       "      <td>M</td>\n",
       "      <td>0.0</td>\n",
       "      <td>3</td>\n",
       "      <td>3</td>\n",
       "      <td>16337.8</td>\n",
       "      <td>1</td>\n",
       "      <td>5.0</td>\n",
       "      <td>1.791759</td>\n",
       "    </tr>\n",
       "    <tr>\n",
       "      <th>1</th>\n",
       "      <td>2019-01-17 03:34:00</td>\n",
       "      <td>CAR1</td>\n",
       "      <td>CS100</td>\n",
       "      <td>9.0</td>\n",
       "      <td>37</td>\n",
       "      <td>2019-01-17 00:00:00</td>\n",
       "      <td>2.61</td>\n",
       "      <td>0.043</td>\n",
       "      <td>42.0</td>\n",
       "      <td>223.333333</td>\n",
       "      <td>...</td>\n",
       "      <td>1.0</td>\n",
       "      <td>1.0</td>\n",
       "      <td>L</td>\n",
       "      <td>0.0</td>\n",
       "      <td>3</td>\n",
       "      <td>3</td>\n",
       "      <td>13110.0</td>\n",
       "      <td>0</td>\n",
       "      <td>8.0</td>\n",
       "      <td>2.197225</td>\n",
       "    </tr>\n",
       "    <tr>\n",
       "      <th>2</th>\n",
       "      <td>2019-01-17 03:36:00</td>\n",
       "      <td>CAR1</td>\n",
       "      <td>A321/2</td>\n",
       "      <td>9.0</td>\n",
       "      <td>9</td>\n",
       "      <td>2019-01-17 00:00:00</td>\n",
       "      <td>2.61</td>\n",
       "      <td>0.043</td>\n",
       "      <td>42.0</td>\n",
       "      <td>223.333333</td>\n",
       "      <td>...</td>\n",
       "      <td>1.0</td>\n",
       "      <td>1.0</td>\n",
       "      <td>M</td>\n",
       "      <td>1.0</td>\n",
       "      <td>3</td>\n",
       "      <td>3</td>\n",
       "      <td>16337.8</td>\n",
       "      <td>1</td>\n",
       "      <td>7.0</td>\n",
       "      <td>2.079442</td>\n",
       "    </tr>\n",
       "    <tr>\n",
       "      <th>3</th>\n",
       "      <td>2019-01-17 03:43:00</td>\n",
       "      <td>CAR1</td>\n",
       "      <td>CS100</td>\n",
       "      <td>0.0</td>\n",
       "      <td>28</td>\n",
       "      <td>2019-01-17 00:00:00</td>\n",
       "      <td>2.61</td>\n",
       "      <td>0.043</td>\n",
       "      <td>42.0</td>\n",
       "      <td>223.333333</td>\n",
       "      <td>...</td>\n",
       "      <td>1.0</td>\n",
       "      <td>1.0</td>\n",
       "      <td>L</td>\n",
       "      <td>2.0</td>\n",
       "      <td>3</td>\n",
       "      <td>3</td>\n",
       "      <td>13110.0</td>\n",
       "      <td>0</td>\n",
       "      <td>5.0</td>\n",
       "      <td>1.791759</td>\n",
       "    </tr>\n",
       "    <tr>\n",
       "      <th>4</th>\n",
       "      <td>2019-01-17 03:44:00</td>\n",
       "      <td>CAR1</td>\n",
       "      <td>MD88</td>\n",
       "      <td>9.0</td>\n",
       "      <td>32</td>\n",
       "      <td>2019-01-17 00:00:00</td>\n",
       "      <td>2.61</td>\n",
       "      <td>0.043</td>\n",
       "      <td>42.0</td>\n",
       "      <td>223.333333</td>\n",
       "      <td>...</td>\n",
       "      <td>1.0</td>\n",
       "      <td>1.0</td>\n",
       "      <td>L</td>\n",
       "      <td>2.0</td>\n",
       "      <td>3</td>\n",
       "      <td>3</td>\n",
       "      <td>15739.7</td>\n",
       "      <td>1</td>\n",
       "      <td>5.0</td>\n",
       "      <td>1.791759</td>\n",
       "    </tr>\n",
       "  </tbody>\n",
       "</table>\n",
       "<p>5 rows × 26 columns</p>\n",
       "</div>"
      ],
      "text/plain": [
       "     ActualLandingTime Airline AircraftType  RunwayNumber  StandNumber  \\\n",
       "0  2019-01-17 03:18:00    CAR1       A321/2           9.0          128   \n",
       "1  2019-01-17 03:34:00    CAR1        CS100           9.0           37   \n",
       "2  2019-01-17 03:36:00    CAR1       A321/2           9.0            9   \n",
       "3  2019-01-17 03:43:00    CAR1        CS100           0.0           28   \n",
       "4  2019-01-17 03:44:00    CAR1         MD88           9.0           32   \n",
       "\n",
       "                  Date  AWNDmean  PRCPmean  TAVGmean    WDF5mean  ...  \\\n",
       "0  2019-01-17 00:00:00      2.61     0.043      42.0  223.333333  ...   \n",
       "1  2019-01-17 00:00:00      2.61     0.043      42.0  223.333333  ...   \n",
       "2  2019-01-17 00:00:00      2.61     0.043      42.0  223.333333  ...   \n",
       "3  2019-01-17 00:00:00      2.61     0.043      42.0  223.333333  ...   \n",
       "4  2019-01-17 00:00:00      2.61     0.043      42.0  223.333333  ...   \n",
       "\n",
       "   IceRoad  WetDay  ShipmentWeightCat  NbPlanesLast10Mn  Hour  WeekDay  \\\n",
       "0      1.0     1.0                  M               0.0     3        3   \n",
       "1      1.0     1.0                  L               0.0     3        3   \n",
       "2      1.0     1.0                  M               1.0     3        3   \n",
       "3      1.0     1.0                  L               2.0     3        3   \n",
       "4      1.0     1.0                  L               2.0     3        3   \n",
       "\n",
       "   ParkingArea  StandRank TaxiTime  LogTaxiTime  \n",
       "0      16337.8          1      5.0     1.791759  \n",
       "1      13110.0          0      8.0     2.197225  \n",
       "2      16337.8          1      7.0     2.079442  \n",
       "3      13110.0          0      5.0     1.791759  \n",
       "4      15739.7          1      5.0     1.791759  \n",
       "\n",
       "[5 rows x 26 columns]"
      ]
     },
     "execution_count": 18,
     "metadata": {},
     "output_type": "execute_result"
    }
   ],
   "source": [
    "df1.head()"
   ]
  },
  {
   "cell_type": "markdown",
   "metadata": {},
   "source": [
    "We drop the AircraftType. We already put this information in the parking area column."
   ]
  },
  {
   "cell_type": "code",
   "execution_count": 19,
   "metadata": {},
   "outputs": [],
   "source": [
    "df1.drop(['AircraftType'], axis=1, inplace=True)"
   ]
  },
  {
   "cell_type": "markdown",
   "metadata": {},
   "source": [
    "We drop useless columns"
   ]
  },
  {
   "cell_type": "code",
   "execution_count": 20,
   "metadata": {},
   "outputs": [],
   "source": [
    "df1.drop(['ActualLandingTime', 'Date', 'StandNumber'], axis=1, inplace=True)"
   ]
  },
  {
   "cell_type": "code",
   "execution_count": 21,
   "metadata": {},
   "outputs": [
    {
     "data": {
      "text/plain": [
       "(8904, 22)"
      ]
     },
     "execution_count": 21,
     "metadata": {},
     "output_type": "execute_result"
    }
   ],
   "source": [
    "df1.shape"
   ]
  },
  {
   "cell_type": "markdown",
   "metadata": {},
   "source": [
    "## One-Hot Encoding"
   ]
  },
  {
   "cell_type": "markdown",
   "metadata": {},
   "source": [
    "As the Random Forest Regressor of scikit learn does not support categorical variables, we use One-Hot encoding."
   ]
  },
  {
   "cell_type": "code",
   "execution_count": 22,
   "metadata": {},
   "outputs": [
    {
     "data": {
      "text/plain": [
       "Airline               object\n",
       "RunwayNumber         float64\n",
       "AWNDmean             float64\n",
       "PRCPmean             float64\n",
       "TAVGmean             float64\n",
       "WDF5mean             float64\n",
       "WSF2max              float64\n",
       "WSF5max              float64\n",
       "WT01max              float64\n",
       "WT02max              float64\n",
       "WT03max              float64\n",
       "WT08max              float64\n",
       "IceRoad              float64\n",
       "WetDay               float64\n",
       "ShipmentWeightCat     object\n",
       "NbPlanesLast10Mn     float64\n",
       "Hour                   int64\n",
       "WeekDay                int64\n",
       "ParkingArea          float64\n",
       "StandRank              int64\n",
       "TaxiTime             float64\n",
       "LogTaxiTime          float64\n",
       "dtype: object"
      ]
     },
     "execution_count": 22,
     "metadata": {},
     "output_type": "execute_result"
    }
   ],
   "source": [
    "df1.dtypes"
   ]
  },
  {
   "cell_type": "code",
   "execution_count": 23,
   "metadata": {},
   "outputs": [],
   "source": [
    "df1['RunwayNumber'] = pd.Categorical(df1['RunwayNumber'])\n",
    "df1['Airline'] = pd.Categorical(df1['Airline'])\n",
    "df1['ShipmentWeightCat'] = pd.Categorical(df1['ShipmentWeightCat'])"
   ]
  },
  {
   "cell_type": "code",
   "execution_count": 24,
   "metadata": {},
   "outputs": [],
   "source": [
    "dfDummiesRunwayNumber = pd.get_dummies(df1['RunwayNumber'], prefix = 'RunwayNumber')\n",
    "dfDummiesAirline = pd.get_dummies(df1['Airline'], prefix = 'Airline')\n",
    "dfDummiesShipmentWeightCat = pd.get_dummies(df1['ShipmentWeightCat'], prefix = 'ShipmentWeightCat')"
   ]
  },
  {
   "cell_type": "code",
   "execution_count": 25,
   "metadata": {},
   "outputs": [],
   "source": [
    "df2 = pd.concat([df1, dfDummiesRunwayNumber, dfDummiesAirline, dfDummiesShipmentWeightCat], axis=1)"
   ]
  },
  {
   "cell_type": "code",
   "execution_count": 26,
   "metadata": {},
   "outputs": [
    {
     "data": {
      "text/plain": [
       "(8904, 38)"
      ]
     },
     "execution_count": 26,
     "metadata": {},
     "output_type": "execute_result"
    }
   ],
   "source": [
    "df2.shape"
   ]
  },
  {
   "cell_type": "markdown",
   "metadata": {},
   "source": [
    "One column is missing because an Airline Company disapeared in the testing set (the CAR2 one). We need to add a column."
   ]
  },
  {
   "cell_type": "code",
   "execution_count": 27,
   "metadata": {},
   "outputs": [],
   "source": [
    "df2['Airline_CAR2']=0"
   ]
  },
  {
   "cell_type": "code",
   "execution_count": 28,
   "metadata": {},
   "outputs": [
    {
     "data": {
      "text/html": [
       "<div>\n",
       "<style scoped>\n",
       "    .dataframe tbody tr th:only-of-type {\n",
       "        vertical-align: middle;\n",
       "    }\n",
       "\n",
       "    .dataframe tbody tr th {\n",
       "        vertical-align: top;\n",
       "    }\n",
       "\n",
       "    .dataframe thead th {\n",
       "        text-align: right;\n",
       "    }\n",
       "</style>\n",
       "<table border=\"1\" class=\"dataframe\">\n",
       "  <thead>\n",
       "    <tr style=\"text-align: right;\">\n",
       "      <th></th>\n",
       "      <th>Airline</th>\n",
       "      <th>RunwayNumber</th>\n",
       "      <th>AWNDmean</th>\n",
       "      <th>PRCPmean</th>\n",
       "      <th>TAVGmean</th>\n",
       "      <th>WDF5mean</th>\n",
       "      <th>WSF2max</th>\n",
       "      <th>WSF5max</th>\n",
       "      <th>WT01max</th>\n",
       "      <th>WT02max</th>\n",
       "      <th>...</th>\n",
       "      <th>RunwayNumber_7.0</th>\n",
       "      <th>RunwayNumber_8.0</th>\n",
       "      <th>RunwayNumber_9.0</th>\n",
       "      <th>Airline_CAR1</th>\n",
       "      <th>Airline_CAR3</th>\n",
       "      <th>Airline_CAR4</th>\n",
       "      <th>ShipmentWeightCat_L</th>\n",
       "      <th>ShipmentWeightCat_M</th>\n",
       "      <th>ShipmentWeightCat_S</th>\n",
       "      <th>Airline_CAR2</th>\n",
       "    </tr>\n",
       "  </thead>\n",
       "  <tbody>\n",
       "    <tr>\n",
       "      <th>0</th>\n",
       "      <td>CAR1</td>\n",
       "      <td>9.0</td>\n",
       "      <td>2.61</td>\n",
       "      <td>0.043</td>\n",
       "      <td>42.0</td>\n",
       "      <td>223.333333</td>\n",
       "      <td>8.9</td>\n",
       "      <td>13.0</td>\n",
       "      <td>1.0</td>\n",
       "      <td>0.0</td>\n",
       "      <td>...</td>\n",
       "      <td>0</td>\n",
       "      <td>0</td>\n",
       "      <td>1</td>\n",
       "      <td>1</td>\n",
       "      <td>0</td>\n",
       "      <td>0</td>\n",
       "      <td>0</td>\n",
       "      <td>1</td>\n",
       "      <td>0</td>\n",
       "      <td>0</td>\n",
       "    </tr>\n",
       "    <tr>\n",
       "      <th>1</th>\n",
       "      <td>CAR1</td>\n",
       "      <td>9.0</td>\n",
       "      <td>2.61</td>\n",
       "      <td>0.043</td>\n",
       "      <td>42.0</td>\n",
       "      <td>223.333333</td>\n",
       "      <td>8.9</td>\n",
       "      <td>13.0</td>\n",
       "      <td>1.0</td>\n",
       "      <td>0.0</td>\n",
       "      <td>...</td>\n",
       "      <td>0</td>\n",
       "      <td>0</td>\n",
       "      <td>1</td>\n",
       "      <td>1</td>\n",
       "      <td>0</td>\n",
       "      <td>0</td>\n",
       "      <td>1</td>\n",
       "      <td>0</td>\n",
       "      <td>0</td>\n",
       "      <td>0</td>\n",
       "    </tr>\n",
       "    <tr>\n",
       "      <th>2</th>\n",
       "      <td>CAR1</td>\n",
       "      <td>9.0</td>\n",
       "      <td>2.61</td>\n",
       "      <td>0.043</td>\n",
       "      <td>42.0</td>\n",
       "      <td>223.333333</td>\n",
       "      <td>8.9</td>\n",
       "      <td>13.0</td>\n",
       "      <td>1.0</td>\n",
       "      <td>0.0</td>\n",
       "      <td>...</td>\n",
       "      <td>0</td>\n",
       "      <td>0</td>\n",
       "      <td>1</td>\n",
       "      <td>1</td>\n",
       "      <td>0</td>\n",
       "      <td>0</td>\n",
       "      <td>0</td>\n",
       "      <td>1</td>\n",
       "      <td>0</td>\n",
       "      <td>0</td>\n",
       "    </tr>\n",
       "    <tr>\n",
       "      <th>3</th>\n",
       "      <td>CAR1</td>\n",
       "      <td>0.0</td>\n",
       "      <td>2.61</td>\n",
       "      <td>0.043</td>\n",
       "      <td>42.0</td>\n",
       "      <td>223.333333</td>\n",
       "      <td>8.9</td>\n",
       "      <td>13.0</td>\n",
       "      <td>1.0</td>\n",
       "      <td>0.0</td>\n",
       "      <td>...</td>\n",
       "      <td>0</td>\n",
       "      <td>0</td>\n",
       "      <td>0</td>\n",
       "      <td>1</td>\n",
       "      <td>0</td>\n",
       "      <td>0</td>\n",
       "      <td>1</td>\n",
       "      <td>0</td>\n",
       "      <td>0</td>\n",
       "      <td>0</td>\n",
       "    </tr>\n",
       "    <tr>\n",
       "      <th>4</th>\n",
       "      <td>CAR1</td>\n",
       "      <td>9.0</td>\n",
       "      <td>2.61</td>\n",
       "      <td>0.043</td>\n",
       "      <td>42.0</td>\n",
       "      <td>223.333333</td>\n",
       "      <td>8.9</td>\n",
       "      <td>13.0</td>\n",
       "      <td>1.0</td>\n",
       "      <td>0.0</td>\n",
       "      <td>...</td>\n",
       "      <td>0</td>\n",
       "      <td>0</td>\n",
       "      <td>1</td>\n",
       "      <td>1</td>\n",
       "      <td>0</td>\n",
       "      <td>0</td>\n",
       "      <td>1</td>\n",
       "      <td>0</td>\n",
       "      <td>0</td>\n",
       "      <td>0</td>\n",
       "    </tr>\n",
       "  </tbody>\n",
       "</table>\n",
       "<p>5 rows × 39 columns</p>\n",
       "</div>"
      ],
      "text/plain": [
       "  Airline RunwayNumber  AWNDmean  PRCPmean  TAVGmean    WDF5mean  WSF2max  \\\n",
       "0    CAR1          9.0      2.61     0.043      42.0  223.333333      8.9   \n",
       "1    CAR1          9.0      2.61     0.043      42.0  223.333333      8.9   \n",
       "2    CAR1          9.0      2.61     0.043      42.0  223.333333      8.9   \n",
       "3    CAR1          0.0      2.61     0.043      42.0  223.333333      8.9   \n",
       "4    CAR1          9.0      2.61     0.043      42.0  223.333333      8.9   \n",
       "\n",
       "   WSF5max  WT01max  WT02max  ...  RunwayNumber_7.0  RunwayNumber_8.0  \\\n",
       "0     13.0      1.0      0.0  ...                 0                 0   \n",
       "1     13.0      1.0      0.0  ...                 0                 0   \n",
       "2     13.0      1.0      0.0  ...                 0                 0   \n",
       "3     13.0      1.0      0.0  ...                 0                 0   \n",
       "4     13.0      1.0      0.0  ...                 0                 0   \n",
       "\n",
       "   RunwayNumber_9.0  Airline_CAR1 Airline_CAR3  Airline_CAR4  \\\n",
       "0                 1             1            0             0   \n",
       "1                 1             1            0             0   \n",
       "2                 1             1            0             0   \n",
       "3                 0             1            0             0   \n",
       "4                 1             1            0             0   \n",
       "\n",
       "   ShipmentWeightCat_L  ShipmentWeightCat_M  ShipmentWeightCat_S  Airline_CAR2  \n",
       "0                    0                    1                    0             0  \n",
       "1                    1                    0                    0             0  \n",
       "2                    0                    1                    0             0  \n",
       "3                    1                    0                    0             0  \n",
       "4                    1                    0                    0             0  \n",
       "\n",
       "[5 rows x 39 columns]"
      ]
     },
     "execution_count": 28,
     "metadata": {},
     "output_type": "execute_result"
    }
   ],
   "source": [
    "df2.head()"
   ]
  },
  {
   "cell_type": "markdown",
   "metadata": {},
   "source": [
    "## Creat input matrix and target columns"
   ]
  },
  {
   "cell_type": "code",
   "execution_count": 29,
   "metadata": {},
   "outputs": [],
   "source": [
    "X = df2.drop(['TaxiTime', 'LogTaxiTime', 'RunwayNumber', 'Airline', 'ShipmentWeightCat'], axis=1)\n",
    "y = df2['LogTaxiTime']"
   ]
  },
  {
   "cell_type": "code",
   "execution_count": 30,
   "metadata": {},
   "outputs": [
    {
     "name": "stdout",
     "output_type": "stream",
     "text": [
      "(8904, 34)\n",
      "(8904,)\n"
     ]
    }
   ],
   "source": [
    "print(X.shape)\n",
    "print(y.shape)"
   ]
  },
  {
   "cell_type": "markdown",
   "metadata": {},
   "source": [
    "## Random Forest Regressor"
   ]
  },
  {
   "cell_type": "markdown",
   "metadata": {},
   "source": [
    "Load the model"
   ]
  },
  {
   "cell_type": "code",
   "execution_count": 31,
   "metadata": {},
   "outputs": [],
   "source": [
    "loaded_rf_model = pickle.load(open('finalized_random_forest_model.sav', 'rb'))"
   ]
  },
  {
   "cell_type": "code",
   "execution_count": 32,
   "metadata": {},
   "outputs": [],
   "source": [
    "y_pred = np.exp(loaded_rf_model.predict(X))-1"
   ]
  },
  {
   "cell_type": "code",
   "execution_count": 33,
   "metadata": {},
   "outputs": [
    {
     "data": {
      "text/plain": [
       "array([6.35591228, 6.3556139 , 6.47383181, 6.20197799, 6.42763827,\n",
       "       6.01294258, 6.485661  , 6.69152525, 6.47098207, 6.47394647])"
      ]
     },
     "execution_count": 33,
     "metadata": {},
     "output_type": "execute_result"
    }
   ],
   "source": [
    "y_pred[:10]"
   ]
  },
  {
   "cell_type": "markdown",
   "metadata": {},
   "source": [
    "#### Compute RMSE score"
   ]
  },
  {
   "cell_type": "code",
   "execution_count": 34,
   "metadata": {},
   "outputs": [
    {
     "data": {
      "text/plain": [
       "3.90080957127268"
      ]
     },
     "execution_count": 34,
     "metadata": {},
     "output_type": "execute_result"
    }
   ],
   "source": [
    "np.sqrt(mean_squared_error(np.exp(y)-1, y_pred))"
   ]
  },
  {
   "cell_type": "markdown",
   "metadata": {},
   "source": [
    "#### Compute accuracy +/- 3 and 5 minutes"
   ]
  },
  {
   "cell_type": "code",
   "execution_count": 35,
   "metadata": {},
   "outputs": [],
   "source": [
    "accuracy_dataframe = pd.DataFrame(data={'y_pred':y_pred, 'y':np.exp(y)-1})"
   ]
  },
  {
   "cell_type": "code",
   "execution_count": 36,
   "metadata": {},
   "outputs": [],
   "source": [
    "accuracy_dataframe['3MinutesRange'] = abs(accuracy_dataframe['y_pred'] - accuracy_dataframe['y']) <= 3\n",
    "accuracy_dataframe['5MinutesRange'] = abs(accuracy_dataframe['y_pred'] - accuracy_dataframe['y']) <= 5"
   ]
  },
  {
   "cell_type": "code",
   "execution_count": 37,
   "metadata": {},
   "outputs": [
    {
     "name": "stdout",
     "output_type": "stream",
     "text": [
      "True     81.469003\n",
      "False    18.530997\n",
      "Name: 3MinutesRange, dtype: float64\n",
      "True     93.025606\n",
      "False     6.974394\n",
      "Name: 5MinutesRange, dtype: float64\n"
     ]
    }
   ],
   "source": [
    "print(accuracy_dataframe['3MinutesRange'].value_counts(normalize=True) * 100)\n",
    "\n",
    "print(accuracy_dataframe['5MinutesRange'].value_counts(normalize=True) * 100)"
   ]
  },
  {
   "cell_type": "markdown",
   "metadata": {},
   "source": [
    "#### Compute 10% and 90% error"
   ]
  },
  {
   "cell_type": "code",
   "execution_count": 45,
   "metadata": {},
   "outputs": [
    {
     "data": {
      "text/plain": [
       "4.123139054485239"
      ]
     },
     "execution_count": 45,
     "metadata": {},
     "output_type": "execute_result"
    }
   ],
   "source": [
    "Error = (np.exp(y)-1 - y_pred)**2\n",
    "print(np.sqrt(Error.quantile(0.1)))\n",
    "print(np.sqrt(Error.quantile(0.9)))"
   ]
  }
 ],
 "metadata": {
  "kernelspec": {
   "display_name": "Python 3",
   "language": "python",
   "name": "python3"
  },
  "language_info": {
   "codemirror_mode": {
    "name": "ipython",
    "version": 3
   },
   "file_extension": ".py",
   "mimetype": "text/x-python",
   "name": "python",
   "nbconvert_exporter": "python",
   "pygments_lexer": "ipython3",
   "version": "3.6.8"
  }
 },
 "nbformat": 4,
 "nbformat_minor": 2
}
