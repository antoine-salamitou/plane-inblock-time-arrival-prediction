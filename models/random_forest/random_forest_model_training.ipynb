{
 "cells": [
  {
   "cell_type": "markdown",
   "metadata": {
    "collapsed": true
   },
   "source": [
    "# Random Forest Regressor Model"
   ]
  },
  {
   "cell_type": "code",
   "execution_count": 1,
   "metadata": {},
   "outputs": [],
   "source": [
    "import pandas as pd\n",
    "from sklearn.tree import DecisionTreeRegressor\n",
    "from sklearn.ensemble import RandomForestRegressor\n",
    "from sklearn.model_selection import train_test_split\n",
    "import numpy as np\n",
    "from sklearn.metrics import mean_squared_error"
   ]
  },
  {
   "cell_type": "markdown",
   "metadata": {},
   "source": [
    "## Loading the data"
   ]
  },
  {
   "cell_type": "code",
   "execution_count": 2,
   "metadata": {},
   "outputs": [],
   "source": [
    "#To remove\n",
    "df1 = pd.read_csv(\"DatasetCleanFinal.csv\", sep=\",\")"
   ]
  },
  {
   "cell_type": "code",
   "execution_count": 3,
   "metadata": {
    "scrolled": true
   },
   "outputs": [],
   "source": [
    "#df1 = pd.read_csv(\"../../data/DatasetCleanFinal.csv\", sep=\",\")"
   ]
  },
  {
   "cell_type": "code",
   "execution_count": 4,
   "metadata": {},
   "outputs": [
    {
     "data": {
      "text/html": [
       "<div>\n",
       "<style scoped>\n",
       "    .dataframe tbody tr th:only-of-type {\n",
       "        vertical-align: middle;\n",
       "    }\n",
       "\n",
       "    .dataframe tbody tr th {\n",
       "        vertical-align: top;\n",
       "    }\n",
       "\n",
       "    .dataframe thead th {\n",
       "        text-align: right;\n",
       "    }\n",
       "</style>\n",
       "<table border=\"1\" class=\"dataframe\">\n",
       "  <thead>\n",
       "    <tr style=\"text-align: right;\">\n",
       "      <th></th>\n",
       "      <th>ActualLandingTime</th>\n",
       "      <th>Airline</th>\n",
       "      <th>AircraftType</th>\n",
       "      <th>RunwayNumber</th>\n",
       "      <th>StandNumber</th>\n",
       "      <th>Date</th>\n",
       "      <th>AWNDmean</th>\n",
       "      <th>PRCPmean</th>\n",
       "      <th>TAVGmean</th>\n",
       "      <th>WDF5mean</th>\n",
       "      <th>...</th>\n",
       "      <th>IceRoad</th>\n",
       "      <th>WetDay</th>\n",
       "      <th>ShipmentWeightCat</th>\n",
       "      <th>NbPlanesLast10Mn</th>\n",
       "      <th>Hour</th>\n",
       "      <th>WeekDay</th>\n",
       "      <th>ParkingArea</th>\n",
       "      <th>StandRank</th>\n",
       "      <th>TaxiTime</th>\n",
       "      <th>LogTaxiTime</th>\n",
       "    </tr>\n",
       "  </thead>\n",
       "  <tbody>\n",
       "    <tr>\n",
       "      <th>0</th>\n",
       "      <td>2018-07-30 04:25:00</td>\n",
       "      <td>CAR1</td>\n",
       "      <td>B737/9-WL</td>\n",
       "      <td>2.0</td>\n",
       "      <td>4</td>\n",
       "      <td>2018-07-30 00:00:00</td>\n",
       "      <td>4.173333</td>\n",
       "      <td>0.006667</td>\n",
       "      <td>79.0</td>\n",
       "      <td>153.333333</td>\n",
       "      <td>...</td>\n",
       "      <td>0.0</td>\n",
       "      <td>1.0</td>\n",
       "      <td>M</td>\n",
       "      <td>0.0</td>\n",
       "      <td>4</td>\n",
       "      <td>0</td>\n",
       "      <td>16223.1</td>\n",
       "      <td>1</td>\n",
       "      <td>4.0</td>\n",
       "      <td>1.609438</td>\n",
       "    </tr>\n",
       "    <tr>\n",
       "      <th>1</th>\n",
       "      <td>2018-07-30 08:14:00</td>\n",
       "      <td>CAR1</td>\n",
       "      <td>B757/2-WL</td>\n",
       "      <td>2.0</td>\n",
       "      <td>7</td>\n",
       "      <td>2018-07-30 00:00:00</td>\n",
       "      <td>4.173333</td>\n",
       "      <td>0.006667</td>\n",
       "      <td>79.0</td>\n",
       "      <td>153.333333</td>\n",
       "      <td>...</td>\n",
       "      <td>0.0</td>\n",
       "      <td>1.0</td>\n",
       "      <td>M</td>\n",
       "      <td>0.0</td>\n",
       "      <td>8</td>\n",
       "      <td>0</td>\n",
       "      <td>20919.9</td>\n",
       "      <td>1</td>\n",
       "      <td>4.0</td>\n",
       "      <td>1.609438</td>\n",
       "    </tr>\n",
       "    <tr>\n",
       "      <th>2</th>\n",
       "      <td>2018-07-30 08:26:00</td>\n",
       "      <td>CAR1</td>\n",
       "      <td>A321/2</td>\n",
       "      <td>1.0</td>\n",
       "      <td>8</td>\n",
       "      <td>2018-07-30 00:00:00</td>\n",
       "      <td>4.173333</td>\n",
       "      <td>0.006667</td>\n",
       "      <td>79.0</td>\n",
       "      <td>153.333333</td>\n",
       "      <td>...</td>\n",
       "      <td>0.0</td>\n",
       "      <td>1.0</td>\n",
       "      <td>M</td>\n",
       "      <td>0.0</td>\n",
       "      <td>8</td>\n",
       "      <td>0</td>\n",
       "      <td>16337.8</td>\n",
       "      <td>1</td>\n",
       "      <td>3.0</td>\n",
       "      <td>1.386294</td>\n",
       "    </tr>\n",
       "    <tr>\n",
       "      <th>3</th>\n",
       "      <td>2018-07-30 08:42:00</td>\n",
       "      <td>CAR1</td>\n",
       "      <td>B737/9-WL</td>\n",
       "      <td>2.0</td>\n",
       "      <td>9</td>\n",
       "      <td>2018-07-30 00:00:00</td>\n",
       "      <td>4.173333</td>\n",
       "      <td>0.006667</td>\n",
       "      <td>79.0</td>\n",
       "      <td>153.333333</td>\n",
       "      <td>...</td>\n",
       "      <td>0.0</td>\n",
       "      <td>1.0</td>\n",
       "      <td>M</td>\n",
       "      <td>0.0</td>\n",
       "      <td>8</td>\n",
       "      <td>0</td>\n",
       "      <td>16223.1</td>\n",
       "      <td>1</td>\n",
       "      <td>4.0</td>\n",
       "      <td>1.609438</td>\n",
       "    </tr>\n",
       "    <tr>\n",
       "      <th>4</th>\n",
       "      <td>2018-07-30 08:52:00</td>\n",
       "      <td>CAR1</td>\n",
       "      <td>A321/2</td>\n",
       "      <td>2.0</td>\n",
       "      <td>11</td>\n",
       "      <td>2018-07-30 00:00:00</td>\n",
       "      <td>4.173333</td>\n",
       "      <td>0.006667</td>\n",
       "      <td>79.0</td>\n",
       "      <td>153.333333</td>\n",
       "      <td>...</td>\n",
       "      <td>0.0</td>\n",
       "      <td>1.0</td>\n",
       "      <td>M</td>\n",
       "      <td>0.0</td>\n",
       "      <td>8</td>\n",
       "      <td>0</td>\n",
       "      <td>16337.8</td>\n",
       "      <td>1</td>\n",
       "      <td>5.0</td>\n",
       "      <td>1.791759</td>\n",
       "    </tr>\n",
       "  </tbody>\n",
       "</table>\n",
       "<p>5 rows × 26 columns</p>\n",
       "</div>"
      ],
      "text/plain": [
       "     ActualLandingTime Airline AircraftType  RunwayNumber  StandNumber  \\\n",
       "0  2018-07-30 04:25:00    CAR1    B737/9-WL           2.0            4   \n",
       "1  2018-07-30 08:14:00    CAR1    B757/2-WL           2.0            7   \n",
       "2  2018-07-30 08:26:00    CAR1       A321/2           1.0            8   \n",
       "3  2018-07-30 08:42:00    CAR1    B737/9-WL           2.0            9   \n",
       "4  2018-07-30 08:52:00    CAR1       A321/2           2.0           11   \n",
       "\n",
       "                  Date  AWNDmean  PRCPmean  TAVGmean    WDF5mean  ...  \\\n",
       "0  2018-07-30 00:00:00  4.173333  0.006667      79.0  153.333333  ...   \n",
       "1  2018-07-30 00:00:00  4.173333  0.006667      79.0  153.333333  ...   \n",
       "2  2018-07-30 00:00:00  4.173333  0.006667      79.0  153.333333  ...   \n",
       "3  2018-07-30 00:00:00  4.173333  0.006667      79.0  153.333333  ...   \n",
       "4  2018-07-30 00:00:00  4.173333  0.006667      79.0  153.333333  ...   \n",
       "\n",
       "   IceRoad  WetDay  ShipmentWeightCat  NbPlanesLast10Mn  Hour  WeekDay  \\\n",
       "0      0.0     1.0                  M               0.0     4        0   \n",
       "1      0.0     1.0                  M               0.0     8        0   \n",
       "2      0.0     1.0                  M               0.0     8        0   \n",
       "3      0.0     1.0                  M               0.0     8        0   \n",
       "4      0.0     1.0                  M               0.0     8        0   \n",
       "\n",
       "   ParkingArea  StandRank TaxiTime  LogTaxiTime  \n",
       "0      16223.1          1      4.0     1.609438  \n",
       "1      20919.9          1      4.0     1.609438  \n",
       "2      16337.8          1      3.0     1.386294  \n",
       "3      16223.1          1      4.0     1.609438  \n",
       "4      16337.8          1      5.0     1.791759  \n",
       "\n",
       "[5 rows x 26 columns]"
      ]
     },
     "execution_count": 4,
     "metadata": {},
     "output_type": "execute_result"
    }
   ],
   "source": [
    "df1.head()"
   ]
  },
  {
   "cell_type": "markdown",
   "metadata": {},
   "source": [
    "We drop the AircraftType. We already put this information in the parking area column."
   ]
  },
  {
   "cell_type": "code",
   "execution_count": 5,
   "metadata": {},
   "outputs": [],
   "source": [
    "df1.drop(['AircraftType'], axis=1, inplace=True)"
   ]
  },
  {
   "cell_type": "markdown",
   "metadata": {},
   "source": [
    "We drop useless columns"
   ]
  },
  {
   "cell_type": "code",
   "execution_count": 6,
   "metadata": {},
   "outputs": [],
   "source": [
    "df1.drop(['ActualLandingTime', 'Date', 'StandNumber'], axis=1, inplace=True)"
   ]
  },
  {
   "cell_type": "code",
   "execution_count": 7,
   "metadata": {},
   "outputs": [
    {
     "data": {
      "text/plain": [
       "(129018, 22)"
      ]
     },
     "execution_count": 7,
     "metadata": {},
     "output_type": "execute_result"
    }
   ],
   "source": [
    "df1.shape"
   ]
  },
  {
   "cell_type": "markdown",
   "metadata": {},
   "source": [
    "## One-Hot Encoding"
   ]
  },
  {
   "cell_type": "markdown",
   "metadata": {},
   "source": [
    "As the Random Forest Regressor of scikit learn does not support categorical variables, we use One-Hot encoding."
   ]
  },
  {
   "cell_type": "code",
   "execution_count": 8,
   "metadata": {},
   "outputs": [
    {
     "data": {
      "text/plain": [
       "Airline               object\n",
       "RunwayNumber         float64\n",
       "AWNDmean             float64\n",
       "PRCPmean             float64\n",
       "TAVGmean             float64\n",
       "WDF5mean             float64\n",
       "WSF2max              float64\n",
       "WSF5max              float64\n",
       "WT01max              float64\n",
       "WT02max              float64\n",
       "WT03max              float64\n",
       "WT08max              float64\n",
       "IceRoad              float64\n",
       "WetDay               float64\n",
       "ShipmentWeightCat     object\n",
       "NbPlanesLast10Mn     float64\n",
       "Hour                   int64\n",
       "WeekDay                int64\n",
       "ParkingArea          float64\n",
       "StandRank              int64\n",
       "TaxiTime             float64\n",
       "LogTaxiTime          float64\n",
       "dtype: object"
      ]
     },
     "execution_count": 8,
     "metadata": {},
     "output_type": "execute_result"
    }
   ],
   "source": [
    "df1.dtypes"
   ]
  },
  {
   "cell_type": "code",
   "execution_count": 9,
   "metadata": {},
   "outputs": [],
   "source": [
    "df1['RunwayNumber'] = pd.Categorical(df1['RunwayNumber'])\n",
    "df1['Airline'] = pd.Categorical(df1['Airline'])\n",
    "df1['ShipmentWeightCat'] = pd.Categorical(df1['ShipmentWeightCat'])"
   ]
  },
  {
   "cell_type": "code",
   "execution_count": 10,
   "metadata": {},
   "outputs": [],
   "source": [
    "dfDummiesRunwayNumber = pd.get_dummies(df1['RunwayNumber'], prefix = 'RunwayNumber')\n",
    "dfDummiesAirline = pd.get_dummies(df1['Airline'], prefix = 'Airline')\n",
    "dfDummiesShipmentWeightCat = pd.get_dummies(df1['ShipmentWeightCat'], prefix = 'ShipmentWeightCat')"
   ]
  },
  {
   "cell_type": "code",
   "execution_count": 11,
   "metadata": {},
   "outputs": [],
   "source": [
    "df2 = pd.concat([df1, dfDummiesRunwayNumber, dfDummiesAirline, dfDummiesShipmentWeightCat], axis=1)"
   ]
  },
  {
   "cell_type": "code",
   "execution_count": 12,
   "metadata": {},
   "outputs": [
    {
     "data": {
      "text/plain": [
       "(129018, 39)"
      ]
     },
     "execution_count": 12,
     "metadata": {},
     "output_type": "execute_result"
    }
   ],
   "source": [
    "df2.shape"
   ]
  },
  {
   "cell_type": "code",
   "execution_count": 13,
   "metadata": {},
   "outputs": [
    {
     "data": {
      "text/html": [
       "<div>\n",
       "<style scoped>\n",
       "    .dataframe tbody tr th:only-of-type {\n",
       "        vertical-align: middle;\n",
       "    }\n",
       "\n",
       "    .dataframe tbody tr th {\n",
       "        vertical-align: top;\n",
       "    }\n",
       "\n",
       "    .dataframe thead th {\n",
       "        text-align: right;\n",
       "    }\n",
       "</style>\n",
       "<table border=\"1\" class=\"dataframe\">\n",
       "  <thead>\n",
       "    <tr style=\"text-align: right;\">\n",
       "      <th></th>\n",
       "      <th>Airline</th>\n",
       "      <th>RunwayNumber</th>\n",
       "      <th>AWNDmean</th>\n",
       "      <th>PRCPmean</th>\n",
       "      <th>TAVGmean</th>\n",
       "      <th>WDF5mean</th>\n",
       "      <th>WSF2max</th>\n",
       "      <th>WSF5max</th>\n",
       "      <th>WT01max</th>\n",
       "      <th>WT02max</th>\n",
       "      <th>...</th>\n",
       "      <th>RunwayNumber_7.0</th>\n",
       "      <th>RunwayNumber_8.0</th>\n",
       "      <th>RunwayNumber_9.0</th>\n",
       "      <th>Airline_CAR1</th>\n",
       "      <th>Airline_CAR2</th>\n",
       "      <th>Airline_CAR3</th>\n",
       "      <th>Airline_CAR4</th>\n",
       "      <th>ShipmentWeightCat_L</th>\n",
       "      <th>ShipmentWeightCat_M</th>\n",
       "      <th>ShipmentWeightCat_S</th>\n",
       "    </tr>\n",
       "  </thead>\n",
       "  <tbody>\n",
       "    <tr>\n",
       "      <th>0</th>\n",
       "      <td>CAR1</td>\n",
       "      <td>2.0</td>\n",
       "      <td>4.173333</td>\n",
       "      <td>0.006667</td>\n",
       "      <td>79.0</td>\n",
       "      <td>153.333333</td>\n",
       "      <td>15.0</td>\n",
       "      <td>19.0</td>\n",
       "      <td>1.0</td>\n",
       "      <td>0.0</td>\n",
       "      <td>...</td>\n",
       "      <td>0</td>\n",
       "      <td>0</td>\n",
       "      <td>0</td>\n",
       "      <td>1</td>\n",
       "      <td>0</td>\n",
       "      <td>0</td>\n",
       "      <td>0</td>\n",
       "      <td>0</td>\n",
       "      <td>1</td>\n",
       "      <td>0</td>\n",
       "    </tr>\n",
       "    <tr>\n",
       "      <th>1</th>\n",
       "      <td>CAR1</td>\n",
       "      <td>2.0</td>\n",
       "      <td>4.173333</td>\n",
       "      <td>0.006667</td>\n",
       "      <td>79.0</td>\n",
       "      <td>153.333333</td>\n",
       "      <td>15.0</td>\n",
       "      <td>19.0</td>\n",
       "      <td>1.0</td>\n",
       "      <td>0.0</td>\n",
       "      <td>...</td>\n",
       "      <td>0</td>\n",
       "      <td>0</td>\n",
       "      <td>0</td>\n",
       "      <td>1</td>\n",
       "      <td>0</td>\n",
       "      <td>0</td>\n",
       "      <td>0</td>\n",
       "      <td>0</td>\n",
       "      <td>1</td>\n",
       "      <td>0</td>\n",
       "    </tr>\n",
       "    <tr>\n",
       "      <th>2</th>\n",
       "      <td>CAR1</td>\n",
       "      <td>1.0</td>\n",
       "      <td>4.173333</td>\n",
       "      <td>0.006667</td>\n",
       "      <td>79.0</td>\n",
       "      <td>153.333333</td>\n",
       "      <td>15.0</td>\n",
       "      <td>19.0</td>\n",
       "      <td>1.0</td>\n",
       "      <td>0.0</td>\n",
       "      <td>...</td>\n",
       "      <td>0</td>\n",
       "      <td>0</td>\n",
       "      <td>0</td>\n",
       "      <td>1</td>\n",
       "      <td>0</td>\n",
       "      <td>0</td>\n",
       "      <td>0</td>\n",
       "      <td>0</td>\n",
       "      <td>1</td>\n",
       "      <td>0</td>\n",
       "    </tr>\n",
       "    <tr>\n",
       "      <th>3</th>\n",
       "      <td>CAR1</td>\n",
       "      <td>2.0</td>\n",
       "      <td>4.173333</td>\n",
       "      <td>0.006667</td>\n",
       "      <td>79.0</td>\n",
       "      <td>153.333333</td>\n",
       "      <td>15.0</td>\n",
       "      <td>19.0</td>\n",
       "      <td>1.0</td>\n",
       "      <td>0.0</td>\n",
       "      <td>...</td>\n",
       "      <td>0</td>\n",
       "      <td>0</td>\n",
       "      <td>0</td>\n",
       "      <td>1</td>\n",
       "      <td>0</td>\n",
       "      <td>0</td>\n",
       "      <td>0</td>\n",
       "      <td>0</td>\n",
       "      <td>1</td>\n",
       "      <td>0</td>\n",
       "    </tr>\n",
       "    <tr>\n",
       "      <th>4</th>\n",
       "      <td>CAR1</td>\n",
       "      <td>2.0</td>\n",
       "      <td>4.173333</td>\n",
       "      <td>0.006667</td>\n",
       "      <td>79.0</td>\n",
       "      <td>153.333333</td>\n",
       "      <td>15.0</td>\n",
       "      <td>19.0</td>\n",
       "      <td>1.0</td>\n",
       "      <td>0.0</td>\n",
       "      <td>...</td>\n",
       "      <td>0</td>\n",
       "      <td>0</td>\n",
       "      <td>0</td>\n",
       "      <td>1</td>\n",
       "      <td>0</td>\n",
       "      <td>0</td>\n",
       "      <td>0</td>\n",
       "      <td>0</td>\n",
       "      <td>1</td>\n",
       "      <td>0</td>\n",
       "    </tr>\n",
       "  </tbody>\n",
       "</table>\n",
       "<p>5 rows × 39 columns</p>\n",
       "</div>"
      ],
      "text/plain": [
       "  Airline RunwayNumber  AWNDmean  PRCPmean  TAVGmean    WDF5mean  WSF2max  \\\n",
       "0    CAR1          2.0  4.173333  0.006667      79.0  153.333333     15.0   \n",
       "1    CAR1          2.0  4.173333  0.006667      79.0  153.333333     15.0   \n",
       "2    CAR1          1.0  4.173333  0.006667      79.0  153.333333     15.0   \n",
       "3    CAR1          2.0  4.173333  0.006667      79.0  153.333333     15.0   \n",
       "4    CAR1          2.0  4.173333  0.006667      79.0  153.333333     15.0   \n",
       "\n",
       "   WSF5max  WT01max  WT02max  ...  RunwayNumber_7.0  RunwayNumber_8.0  \\\n",
       "0     19.0      1.0      0.0  ...                 0                 0   \n",
       "1     19.0      1.0      0.0  ...                 0                 0   \n",
       "2     19.0      1.0      0.0  ...                 0                 0   \n",
       "3     19.0      1.0      0.0  ...                 0                 0   \n",
       "4     19.0      1.0      0.0  ...                 0                 0   \n",
       "\n",
       "   RunwayNumber_9.0  Airline_CAR1 Airline_CAR2  Airline_CAR3  Airline_CAR4  \\\n",
       "0                 0             1            0             0             0   \n",
       "1                 0             1            0             0             0   \n",
       "2                 0             1            0             0             0   \n",
       "3                 0             1            0             0             0   \n",
       "4                 0             1            0             0             0   \n",
       "\n",
       "   ShipmentWeightCat_L  ShipmentWeightCat_M  ShipmentWeightCat_S  \n",
       "0                    0                    1                    0  \n",
       "1                    0                    1                    0  \n",
       "2                    0                    1                    0  \n",
       "3                    0                    1                    0  \n",
       "4                    0                    1                    0  \n",
       "\n",
       "[5 rows x 39 columns]"
      ]
     },
     "execution_count": 13,
     "metadata": {},
     "output_type": "execute_result"
    }
   ],
   "source": [
    "df2.head()"
   ]
  },
  {
   "cell_type": "markdown",
   "metadata": {},
   "source": [
    "## Creat input matrix and target columns"
   ]
  },
  {
   "cell_type": "code",
   "execution_count": 14,
   "metadata": {},
   "outputs": [],
   "source": [
    "X = df2.drop(['TaxiTime', 'LogTaxiTime', 'RunwayNumber', 'Airline', 'ShipmentWeightCat'], axis=1)\n",
    "y = df2['LogTaxiTime']"
   ]
  },
  {
   "cell_type": "code",
   "execution_count": 15,
   "metadata": {},
   "outputs": [
    {
     "name": "stdout",
     "output_type": "stream",
     "text": [
      "(129018, 34)\n",
      "(129018,)\n"
     ]
    }
   ],
   "source": [
    "print(X.shape)\n",
    "print(y.shape)"
   ]
  },
  {
   "cell_type": "markdown",
   "metadata": {},
   "source": [
    "## Generate training & testing sets"
   ]
  },
  {
   "cell_type": "code",
   "execution_count": 16,
   "metadata": {},
   "outputs": [],
   "source": [
    "X_train, X_test, y_train, y_test = train_test_split(X, y, test_size=0.2, shuffle=False,random_state=42)"
   ]
  },
  {
   "cell_type": "code",
   "execution_count": 17,
   "metadata": {},
   "outputs": [
    {
     "name": "stdout",
     "output_type": "stream",
     "text": [
      "(103214, 34) (103214,)\n",
      "(25804, 34) (25804,)\n"
     ]
    }
   ],
   "source": [
    "print(X_train.shape, y_train.shape)\n",
    "print(X_test.shape, y_test.shape)"
   ]
  },
  {
   "cell_type": "markdown",
   "metadata": {},
   "source": [
    "## Random Forest Regressor"
   ]
  },
  {
   "cell_type": "code",
   "execution_count": 18,
   "metadata": {},
   "outputs": [],
   "source": [
    "rf = RandomForestRegressor(bootstrap=False, \n",
    "                           max_depth=40, \n",
    "                           max_features='sqrt', \n",
    "                           min_samples_leaf=2, \n",
    "                           min_samples_split=10, \n",
    "                           n_estimators=50, \n",
    "                           n_jobs =-1)"
   ]
  },
  {
   "cell_type": "code",
   "execution_count": 19,
   "metadata": {},
   "outputs": [
    {
     "data": {
      "text/plain": [
       "RandomForestRegressor(bootstrap=False, criterion='mse', max_depth=40,\n",
       "           max_features='sqrt', max_leaf_nodes=None,\n",
       "           min_impurity_decrease=0.0, min_impurity_split=None,\n",
       "           min_samples_leaf=2, min_samples_split=10,\n",
       "           min_weight_fraction_leaf=0.0, n_estimators=50, n_jobs=-1,\n",
       "           oob_score=False, random_state=None, verbose=0, warm_start=False)"
      ]
     },
     "execution_count": 19,
     "metadata": {},
     "output_type": "execute_result"
    }
   ],
   "source": [
    "rf.fit(X_train, y_train)"
   ]
  },
  {
   "cell_type": "code",
   "execution_count": 20,
   "metadata": {},
   "outputs": [],
   "source": [
    "y_pred = np.exp(rf.predict(X_test))-1"
   ]
  },
  {
   "cell_type": "code",
   "execution_count": 21,
   "metadata": {},
   "outputs": [
    {
     "data": {
      "text/plain": [
       "array([8.65053814, 6.06272652, 6.49537912, 6.5758651 , 5.33459271,\n",
       "       5.8619847 , 6.02345017, 6.31116095, 6.20718539, 5.00935967])"
      ]
     },
     "execution_count": 21,
     "metadata": {},
     "output_type": "execute_result"
    }
   ],
   "source": [
    "y_pred[:10]"
   ]
  },
  {
   "cell_type": "markdown",
   "metadata": {},
   "source": [
    "#### Compute RMSE score"
   ]
  },
  {
   "cell_type": "code",
   "execution_count": 22,
   "metadata": {},
   "outputs": [
    {
     "data": {
      "text/plain": [
       "4.166141407156931"
      ]
     },
     "execution_count": 22,
     "metadata": {},
     "output_type": "execute_result"
    }
   ],
   "source": [
    "np.sqrt(mean_squared_error(np.exp(y_test)-1, y_pred))"
   ]
  },
  {
   "cell_type": "markdown",
   "metadata": {},
   "source": [
    "#### Compute accuracy +/- 3 and 5 minutes"
   ]
  },
  {
   "cell_type": "code",
   "execution_count": 23,
   "metadata": {},
   "outputs": [],
   "source": [
    "accuracy_dataframe = pd.DataFrame(data={'y_pred':y_pred, 'y_test':np.exp(y_test)-1})"
   ]
  },
  {
   "cell_type": "code",
   "execution_count": 24,
   "metadata": {},
   "outputs": [],
   "source": [
    "accuracy_dataframe['3MinutesRange'] = abs(accuracy_dataframe['y_pred'] - accuracy_dataframe['y_test']) <= 3\n",
    "accuracy_dataframe['5MinutesRange'] = abs(accuracy_dataframe['y_pred'] - accuracy_dataframe['y_test']) <= 5"
   ]
  },
  {
   "cell_type": "code",
   "execution_count": 25,
   "metadata": {},
   "outputs": [
    {
     "name": "stdout",
     "output_type": "stream",
     "text": [
      "True     82.165556\n",
      "False    17.834444\n",
      "Name: 3MinutesRange, dtype: float64\n",
      "True     92.671679\n",
      "False     7.328321\n",
      "Name: 5MinutesRange, dtype: float64\n"
     ]
    }
   ],
   "source": [
    "print(accuracy_dataframe['3MinutesRange'].value_counts(normalize=True) * 100)\n",
    "\n",
    "print(accuracy_dataframe['5MinutesRange'].value_counts(normalize=True) * 100)"
   ]
  },
  {
   "cell_type": "code",
   "execution_count": 26,
   "metadata": {},
   "outputs": [
    {
     "name": "stdout",
     "output_type": "stream",
     "text": [
      "0.2534019941886494\n",
      "4.084921316924441\n"
     ]
    }
   ],
   "source": [
    "Error = (np.exp(y_test)-1 - y_pred)**2\n",
    "print(np.sqrt(Error.quantile(0.1)))\n",
    "print(np.sqrt(Error.quantile(0.9)))"
   ]
  },
  {
   "cell_type": "markdown",
   "metadata": {},
   "source": [
    "#### Check features importance"
   ]
  },
  {
   "cell_type": "code",
   "execution_count": 30,
   "metadata": {},
   "outputs": [],
   "source": [
    "from matplotlib import pyplot as plt"
   ]
  },
  {
   "cell_type": "code",
   "execution_count": 38,
   "metadata": {},
   "outputs": [
    {
     "data": {
      "text/plain": [
       "array([21, 20, 28,  7, 29, 18, 10,  8, 30, 11, 19,  6,  9, 27, 33, 31, 32,\n",
       "       22, 14, 23,  4,  5, 17,  2,  0,  1,  3, 16, 15, 12, 25, 26, 24, 13],\n",
       "      dtype=int64)"
      ]
     },
     "execution_count": 38,
     "metadata": {},
     "output_type": "execute_result"
    }
   ],
   "source": [
    "np.flip(indices)"
   ]
  },
  {
   "cell_type": "code",
   "execution_count": 42,
   "metadata": {},
   "outputs": [
    {
     "data": {
      "text/plain": [
       "Index(['AWNDmean', 'PRCPmean', 'TAVGmean', 'WDF5mean', 'WSF2max', 'WSF5max',\n",
       "       'WT01max', 'WT02max', 'WT03max', 'WT08max', 'IceRoad', 'WetDay',\n",
       "       'NbPlanesLast10Mn', 'Hour', 'WeekDay', 'ParkingArea', 'StandRank',\n",
       "       'RunwayNumber_0.0', 'RunwayNumber_1.0', 'RunwayNumber_2.0',\n",
       "       'RunwayNumber_3.0', 'RunwayNumber_4.0', 'RunwayNumber_5.0',\n",
       "       'RunwayNumber_6.0', 'RunwayNumber_7.0', 'RunwayNumber_8.0',\n",
       "       'RunwayNumber_9.0', 'Airline_CAR1', 'Airline_CAR2', 'Airline_CAR3',\n",
       "       'Airline_CAR4', 'ShipmentWeightCat_L', 'ShipmentWeightCat_M',\n",
       "       'ShipmentWeightCat_S'],\n",
       "      dtype='object')"
      ]
     },
     "execution_count": 42,
     "metadata": {},
     "output_type": "execute_result"
    }
   ],
   "source": [
    "features"
   ]
  },
  {
   "cell_type": "code",
   "execution_count": 40,
   "metadata": {},
   "outputs": [
    {
     "name": "stdout",
     "output_type": "stream",
     "text": [
      "Feature ranking:\n",
      "14. feature Hour (0.173412)\n",
      "25. feature RunwayNumber_7.0 (0.125661)\n",
      "27. feature RunwayNumber_9.0 (0.098352)\n",
      "26. feature RunwayNumber_8.0 (0.096440)\n",
      "13. feature NbPlanesLast10Mn (0.086112)\n",
      "16. feature ParkingArea (0.051428)\n",
      "17. feature StandRank (0.051412)\n",
      "4. feature WDF5mean (0.040442)\n",
      "2. feature PRCPmean (0.031189)\n",
      "1. feature AWNDmean (0.024318)\n",
      "3. feature TAVGmean (0.023927)\n",
      "18. feature RunwayNumber_0.0 (0.023475)\n",
      "6. feature WSF5max (0.021931)\n",
      "5. feature WSF2max (0.019540)\n",
      "24. feature RunwayNumber_6.0 (0.017897)\n",
      "15. feature WeekDay (0.017358)\n",
      "23. feature RunwayNumber_5.0 (0.017307)\n",
      "33. feature ShipmentWeightCat_M (0.010918)\n",
      "32. feature ShipmentWeightCat_L (0.008774)\n",
      "34. feature ShipmentWeightCat_S (0.008449)\n",
      "28. feature Airline_CAR1 (0.007149)\n",
      "10. feature WT08max (0.005641)\n",
      "7. feature WT01max (0.005077)\n",
      "20. feature RunwayNumber_2.0 (0.004974)\n",
      "12. feature WetDay (0.004773)\n",
      "31. feature Airline_CAR4 (0.004452)\n",
      "9. feature WT03max (0.004207)\n",
      "11. feature IceRoad (0.003813)\n",
      "19. feature RunwayNumber_1.0 (0.003307)\n",
      "30. feature Airline_CAR3 (0.003041)\n",
      "8. feature WT02max (0.002625)\n",
      "29. feature Airline_CAR2 (0.001906)\n",
      "21. feature RunwayNumber_3.0 (0.000388)\n",
      "22. feature RunwayNumber_4.0 (0.000304)\n"
     ]
    },
    {
     "data": {
      "image/png": "[encoded data removed]",
      "text/plain": [
       "<Figure size 432x288 with 1 Axes>"
      ]
     },
     "metadata": {
      "needs_background": "light"
     },
     "output_type": "display_data"
    }
   ],
   "source": [
    "features = X.columns\n",
    "importances = rf.feature_importances_\n",
    "std = np.std([tree.feature_importances_ for tree in rf.estimators_],\n",
    "             axis=0)\n",
    "indices = np.argsort(importances)[::-1]\n",
    "\n",
    "# Print the feature ranking\n",
    "print(\"Feature ranking:\")\n",
    "\n",
    "for f in indices:\n",
    "    print(\"%d. feature %s (%f)\" % (f + 1, X.columns[f], importances[f]))\n",
    "\n",
    "# Plot the feature importances of the forest\n",
    "indices = indices[0:15]\n",
    "indices = np.flip(indices)\n",
    "\n",
    "plt.title('Feature Importances')\n",
    "plt.barh(range(15), [importances[i] for i in indices], color='b', align='center')\n",
    "plt.yticks(range(15), [features[i] for i in indices])\n",
    "plt.xlabel('Relative Importance')\n",
    "plt.show()"
   ]
  },
  {
   "cell_type": "code",
   "execution_count": null,
   "metadata": {},
   "outputs": [],
   "source": [
    "list(features[indices])"
   ]
  },
  {
   "cell_type": "markdown",
   "metadata": {
    "collapsed": true
   },
   "source": [
    "## Grid Search"
   ]
  },
  {
   "cell_type": "markdown",
   "metadata": {},
   "source": [
    "/!\\ We need to be carefull with the cross validation since we are dealing with time series!"
   ]
  },
  {
   "cell_type": "code",
   "execution_count": null,
   "metadata": {},
   "outputs": [],
   "source": [
    "from sklearn.model_selection import TimeSeriesSplit\n",
    "tscv = TimeSeriesSplit(n_splits=5)"
   ]
  },
  {
   "cell_type": "code",
   "execution_count": null,
   "metadata": {},
   "outputs": [],
   "source": [
    "from pprint import pprint\n",
    "from sklearn.model_selection import RandomizedSearchCV\n",
    "# Number of trees in random forest\n",
    "n_estimators = [50]#[int(x) for x in np.linspace(start = 200, stop = 2000, num = 10)]\n",
    "# Number of features to consider at every split\n",
    "max_features = ['auto', 'sqrt']\n",
    "# Maximum number of levels in tree\n",
    "max_depth = [int(x) for x in np.linspace(10, 110, num = 11)]\n",
    "max_depth.append(None)\n",
    "# Minimum number of samples required to split a node\n",
    "min_samples_split = [2, 5, 10]\n",
    "# Minimum number of samples required at each leaf node\n",
    "min_samples_leaf = [1, 2, 4]\n",
    "# Method of selecting samples for training each tree\n",
    "bootstrap = [True, False]\n",
    "# Create the random grid\n",
    "random_grid = {'n_estimators': n_estimators,\n",
    "               'max_features': max_features,\n",
    "               'max_depth': max_depth,\n",
    "               'min_samples_split': min_samples_split,\n",
    "               'min_samples_leaf': min_samples_leaf,\n",
    "               'bootstrap': bootstrap}\n",
    "pprint(random_grid)"
   ]
  },
  {
   "cell_type": "markdown",
   "metadata": {},
   "source": [
    "/!\\ Warning: takes a lot of time to execute"
   ]
  },
  {
   "cell_type": "code",
   "execution_count": null,
   "metadata": {},
   "outputs": [],
   "source": [
    "## Use the random grid to search for best hyperparameters\n",
    "## First create the base model to tune\n",
    "#rf = RandomForestRegressor()\n",
    "## Random search of parameters, using 3 fold cross validation, \n",
    "## search across 100 different combinations, and use all available cores\n",
    "#rf_random = RandomizedSearchCV(estimator = rf, param_distributions = random_grid, n_iter = 100, cv = tscv, verbose=10, random_state=42, n_jobs = -1)\n",
    "## Fit the random search model\n",
    "#rf_random.fit(X_train, y_train)"
   ]
  },
  {
   "cell_type": "code",
   "execution_count": 41,
   "metadata": {},
   "outputs": [
    {
     "ename": "NameError",
     "evalue": "name 'rf_random' is not defined",
     "output_type": "error",
     "traceback": [
      "\u001b[1;31m---------------------------------------------------------------------------\u001b[0m",
      "\u001b[1;31mNameError\u001b[0m                                 Traceback (most recent call last)",
      "\u001b[1;32m<ipython-input-41-ea266b0743c6>\u001b[0m in \u001b[0;36m<module>\u001b[1;34m\u001b[0m\n\u001b[1;32m----> 1\u001b[1;33m \u001b[0mrf_random\u001b[0m\u001b[1;33m.\u001b[0m\u001b[0mbest_params_\u001b[0m\u001b[1;33m\u001b[0m\u001b[1;33m\u001b[0m\u001b[0m\n\u001b[0m",
      "\u001b[1;31mNameError\u001b[0m: name 'rf_random' is not defined"
     ]
    }
   ],
   "source": [
    "rf_random.best_params_"
   ]
  },
  {
   "cell_type": "markdown",
   "metadata": {},
   "source": [
    "## Final RF model"
   ]
  },
  {
   "cell_type": "markdown",
   "metadata": {},
   "source": [
    "Now that we know the optimal set of hyperparameters, we can build our final model and train it on the entire dataset"
   ]
  },
  {
   "cell_type": "code",
   "execution_count": null,
   "metadata": {},
   "outputs": [],
   "source": [
    "rf_final = RandomForestRegressor(bootstrap=False, \n",
    "                           max_depth=40, \n",
    "                           max_features='sqrt', \n",
    "                           min_samples_leaf=2, \n",
    "                           min_samples_split=10, \n",
    "                           n_estimators=50, \n",
    "                           n_jobs =-1)\n",
    "rf_final.fit(X, y) #on full dataset"
   ]
  },
  {
   "cell_type": "markdown",
   "metadata": {},
   "source": [
    "## Pickle the final model for future use"
   ]
  },
  {
   "cell_type": "code",
   "execution_count": null,
   "metadata": {},
   "outputs": [],
   "source": [
    "import pickle\n",
    "# save the model to disk\n",
    "filename = 'finalized_random_forest_model.sav'\n",
    "pickle.dump(rf_final, open(filename, 'wb'))"
   ]
  }
 ],
 "metadata": {
  "kernelspec": {
   "display_name": "Python 3",
   "language": "python",
   "name": "python3"
  },
  "language_info": {
   "codemirror_mode": {
    "name": "ipython",
    "version": 3
   },
   "file_extension": ".py",
   "mimetype": "text/x-python",
   "name": "python",
   "nbconvert_exporter": "python",
   "pygments_lexer": "ipython3",
   "version": "3.6.8"
  }
 },
 "nbformat": 4,
 "nbformat_minor": 2
}
